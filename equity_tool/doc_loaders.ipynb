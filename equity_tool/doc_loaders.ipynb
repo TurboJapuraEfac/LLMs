{
 "cells": [
  {
   "cell_type": "markdown",
   "metadata": {},
   "source": [
    "### Document Loaders In LangChain"
   ]
  },
  {
   "cell_type": "markdown",
   "metadata": {},
   "source": [
    "#### 1. TextLoader"
   ]
  },
  {
   "cell_type": "code",
   "execution_count": 1,
   "metadata": {},
   "outputs": [],
   "source": [
    "from langchain_community.document_loaders import TextLoader\n",
    "loader = TextLoader(\"nvda_news_1.txt\")\n",
    "data = loader.load()"
   ]
  },
  {
   "cell_type": "code",
   "execution_count": 2,
   "metadata": {},
   "outputs": [
    {
     "name": "stdout",
     "output_type": "stream",
     "text": [
      "<class 'langchain_core.documents.base.Document'>\n",
      "{'source': 'nvda_news_1.txt'}\n",
      "<class 'langchain_community.document_loaders.text.TextLoader'>\n"
     ]
    },
    {
     "data": {
      "text/plain": [
       "'nvda_news_1.txt'"
      ]
     },
     "execution_count": 2,
     "metadata": {},
     "output_type": "execute_result"
    }
   ],
   "source": [
    "print(type(data[0]))\n",
    "# data[0] has 2 elements : page_content & metadata\n",
    "# page_content is the entire record of the file\n",
    "# print(data[0].page_content)\n",
    "print(data[0].metadata)\n",
    "print(type(loader))\n",
    "loader.file_path"
   ]
  },
  {
   "cell_type": "markdown",
   "metadata": {},
   "source": [
    "#### 2. CSVLoader"
   ]
  },
  {
   "cell_type": "code",
   "execution_count": 3,
   "metadata": {},
   "outputs": [],
   "source": [
    "from langchain_community.document_loaders import CSVLoader\n",
    "loader = CSVLoader(file_path=\"movies.csv\")\n",
    "data = loader.load()"
   ]
  },
  {
   "cell_type": "code",
   "execution_count": 4,
   "metadata": {},
   "outputs": [
    {
     "name": "stdout",
     "output_type": "stream",
     "text": [
      "9\n",
      "<class 'langchain_core.documents.base.Document'>\n",
      "{'source': 'movies.csv', 'row': 0}\n",
      "{'source': 'movies.csv', 'row': 1}\n",
      "<class 'langchain_community.document_loaders.csv_loader.CSVLoader'>\n"
     ]
    },
    {
     "data": {
      "text/plain": [
       "'movies.csv'"
      ]
     },
     "execution_count": 4,
     "metadata": {},
     "output_type": "execute_result"
    }
   ],
   "source": [
    "print(len(data))\n",
    "print(type(data[0]))\n",
    "# print(data[0].page_content)\n",
    "print(data[0].metadata)\n",
    "print(data[1].metadata)\n",
    "print(type(loader))\n",
    "loader.file_path"
   ]
  },
  {
   "cell_type": "code",
   "execution_count": 6,
   "metadata": {},
   "outputs": [
    {
     "name": "stdout",
     "output_type": "stream",
     "text": [
      "{'source': 'K.G.F: Chapter 2', 'row': 0}\n",
      "{'source': 'Doctor Strange in the Multiverse of Madness', 'row': 1}\n"
     ]
    }
   ],
   "source": [
    "loader = CSVLoader(file_path=\"movies.csv\",source_column=\"title\") # can define the source_column\n",
    "data = loader.load()\n",
    "print(data[0].metadata)\n",
    "print(data[1].metadata)"
   ]
  },
  {
   "cell_type": "markdown",
   "metadata": {},
   "source": [
    "#### 3. Unstructured URL Loader"
   ]
  },
  {
   "cell_type": "code",
   "execution_count": 7,
   "metadata": {},
   "outputs": [],
   "source": [
    "# !pip3 install unstructured libmagic python-magic python-magic-bin\n",
    "# UnstructuredURLLoader of Langchain internally uses unstructured python library to load the content from url's"
   ]
  },
  {
   "cell_type": "code",
   "execution_count": 8,
   "metadata": {},
   "outputs": [],
   "source": [
    "from langchain.document_loaders import UnstructuredURLLoader\n",
    "\n",
    "loader = UnstructuredURLLoader(\n",
    "    urls = [\n",
    "        \"https://www.moneycontrol.com/news/business/banks/hdfc-bank-re-appoints-sanmoy-chakrabarti-as-chief-risk-officer-11259771.html\",\n",
    "        \"https://www.moneycontrol.com/news/business/markets/market-corrects-post-rbi-ups-inflation-forecast-icrr-bet-on-these-top-10-rate-sensitive-stocks-ideas-11142611.html\"\n",
    "    ]\n",
    ")"
   ]
  },
  {
   "cell_type": "code",
   "execution_count": 9,
   "metadata": {},
   "outputs": [
    {
     "data": {
      "text/plain": [
       "2"
      ]
     },
     "execution_count": 9,
     "metadata": {},
     "output_type": "execute_result"
    }
   ],
   "source": [
    "data = loader.load()\n",
    "len(data)"
   ]
  },
  {
   "cell_type": "code",
   "execution_count": 10,
   "metadata": {},
   "outputs": [
    {
     "name": "stdout",
     "output_type": "stream",
     "text": [
      "English\n",
      "\n",
      "Hindi\n",
      "\n",
      "Gujarati\n",
      "\n",
      "Specials\n",
      "\n",
      "Moneycontrol Trending Stock\n",
      "\n",
      "Infosys INE009A01021, INFY, 500209\n",
      "\n",
      "{'source': 'https://www.moneycontrol.com/news/business/banks/hdfc-bank-re-appoints-sanmoy-chakrabarti-as-chief-risk-officer-11259771.html'}\n"
     ]
    }
   ],
   "source": [
    "print(data[0].page_content[0:100])\n",
    "print(data[0].metadata)"
   ]
  },
  {
   "cell_type": "code",
   "execution_count": 11,
   "metadata": {},
   "outputs": [
    {
     "name": "stdout",
     "output_type": "stream",
     "text": [
      "English\n",
      "\n",
      "Hindi\n",
      "\n",
      "Gujarati\n",
      "\n",
      "Specials\n",
      "\n",
      "Moneycontrol Trending Stock\n",
      "\n",
      "Infosys INE009A01021, INFY, 500209\n",
      "\n",
      "{'source': 'https://www.moneycontrol.com/news/business/markets/market-corrects-post-rbi-ups-inflation-forecast-icrr-bet-on-these-top-10-rate-sensitive-stocks-ideas-11142611.html'}\n"
     ]
    }
   ],
   "source": [
    "print(data[1].page_content[0:100])\n",
    "print(data[1].metadata)"
   ]
  }
 ],
 "metadata": {
  "kernelspec": {
   "display_name": "venv",
   "language": "python",
   "name": "python3"
  },
  "language_info": {
   "codemirror_mode": {
    "name": "ipython",
    "version": 3
   },
   "file_extension": ".py",
   "mimetype": "text/x-python",
   "name": "python",
   "nbconvert_exporter": "python",
   "pygments_lexer": "ipython3",
   "version": "3.11.5"
  }
 },
 "nbformat": 4,
 "nbformat_minor": 2
}
